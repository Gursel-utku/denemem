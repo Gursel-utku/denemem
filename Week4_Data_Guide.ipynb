{
    "cells": [
        {
            "metadata": {
                "collapsed": true
            },
            "cell_type": "markdown",
            "source": "\n## Capstone: Find the best neighborhood in Toronto to open a Restaurant Supply Store\nBy Gursel Utku Ak\u0131n\n\n# Data Requirements:\n# 1. We will need a list of Toronto neighborhoods broken down by postal code.\nI start with finding a list of Toronto Neighbor hoods with postal code from Wikipedia and load this data as my working base.\nhttps://en.wikipedia.org/wiki/List_of_postal_codes_of_Canada:_M\n\n# 2. We will need a list of Toronto neighborhoods populations broken down by postal code\nImport a list of populations by postal code\nhttps://www12.statcan.gc.ca/census-recensement/2016/dp-pd/hlt-fst/pd-pl/Tables/File.cfm?T=1201&SR=1&RPP=9999&PR=0&CMA=0&CSD=0&S=22&O=A&Lang=Eng&OFT=CSV\n\n# 3. We will need a list of Toronto neighborhoods average after tax income broken down by postal code\nHere we must manually download these from Stats Canada and load them.\nhttps://www12.statcan.gc.ca/census-recensement/2016/dp-pd/prof/search-recherche/change-geo.cfm?Lang=E&Geo1=FSA\nSee: to_geo_space.csv\n"
        },
        {
            "metadata": {},
            "cell_type": "markdown",
            "source": ""
        }
    ],
    "metadata": {
        "kernelspec": {
            "name": "python3",
            "language": "python"
        }
    },
    "nbformat": 4,
    "nbformat_minor": 1
}